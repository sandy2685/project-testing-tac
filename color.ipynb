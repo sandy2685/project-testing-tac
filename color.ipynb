{
  "nbformat": 4,
  "nbformat_minor": 0,
  "metadata": {
    "colab": {
      "provenance": []
    },
    "kernelspec": {
      "name": "python3",
      "display_name": "Python 3"
    },
    "language_info": {
      "name": "python"
    }
  },
  "cells": [
    {
      "cell_type": "code",
      "execution_count": 4,
      "metadata": {
        "id": "ccSqebCtlCO9"
      },
      "outputs": [],
      "source": [
        "from imutils import paths\n",
        "import cv2\n",
        "import numpy as np"
      ]
    },
    {
      "cell_type": "code",
      "source": [
        "from google.colab.patches import cv2_imshow"
      ],
      "metadata": {
        "id": "m1Uktg4mlEjJ"
      },
      "execution_count": 5,
      "outputs": []
    },
    {
      "cell_type": "code",
      "source": [
        "imagePaths = cv2.imread('/content/photo_background.jpg')\n"
      ],
      "metadata": {
        "id": "xsdM_BfylRSr"
      },
      "execution_count": 6,
      "outputs": []
    },
    {
      "cell_type": "code",
      "source": [
        "gray_image=cv2.imread('/content/GrayImage.jpg',cv2.IMREAD_GRAYSCALE)"
      ],
      "metadata": {
        "id": "niqL5ummmcsl"
      },
      "execution_count": 7,
      "outputs": []
    },
    {
      "cell_type": "code",
      "source": [
        "color_difference=cv2.absdiff(imagePaths,cv2.cvtColor(gray_image,cv2.COLOR_GRAY2BGR))"
      ],
      "metadata": {
        "id": "Kp8Ni4eMn7OA"
      },
      "execution_count": 8,
      "outputs": []
    },
    {
      "cell_type": "code",
      "source": [
        "mean_difference=np.mean(color_difference)"
      ],
      "metadata": {
        "id": "53nDiBvnq1qg"
      },
      "execution_count": 9,
      "outputs": []
    },
    {
      "cell_type": "code",
      "source": [
        "print(f\"Mean Color Difference:{mean_difference}\")"
      ],
      "metadata": {
        "colab": {
          "base_uri": "https://localhost:8080/"
        },
        "id": "zid8CsV_rYXq",
        "outputId": "18155c06-1a98-4bee-cc26-b27df08a9a24"
      },
      "execution_count": 10,
      "outputs": [
        {
          "output_type": "stream",
          "name": "stdout",
          "text": [
            "Mean Color Difference:14.29611545138889\n"
          ]
        }
      ]
    },
    {
      "cell_type": "code",
      "source": [],
      "metadata": {
        "id": "AlxKvmV1ryvF"
      },
      "execution_count": null,
      "outputs": []
    }
  ]
}